{
 "cells": [
  {
   "cell_type": "markdown",
   "metadata": {},
   "source": [
    "**Import libraries**"
   ]
  },
  {
   "cell_type": "code",
   "execution_count": 1,
   "metadata": {},
   "outputs": [],
   "source": [
    "import pandas as pd\n",
    "import requests\n",
    "from bs4 import BeautifulSoup"
   ]
  },
  {
   "cell_type": "markdown",
   "metadata": {},
   "source": [
    "**wikipedia scraping**"
   ]
  },
  {
   "cell_type": "code",
   "execution_count": 2,
   "metadata": {},
   "outputs": [],
   "source": [
    "url = 'https://en.wikipedia.org/wiki/List_of_data_breaches'\n",
    "response = requests.get(url)\n",
    "soup = BeautifulSoup(response.text, 'html.parser')\n",
    "\n",
    "tables = soup.find_all('table', {'class': 'wikitable'})"
   ]
  },
  {
   "cell_type": "markdown",
   "metadata": {},
   "source": [
    "**Government table**"
   ]
  },
  {
   "cell_type": "code",
   "execution_count": 3,
   "metadata": {},
   "outputs": [],
   "source": [
    "government_table = tables[0]\n",
    "data_government = []\n",
    "\n",
    "for row in government_table.find_all('tr')[1:]:\n",
    "    cells = row.find_all('td')\n",
    "    if len(cells) >= 6:\n",
    "        agency = cells[1].text.strip()\n",
    "        year = cells[2].text.strip()\n",
    "        records = cells[3].text.strip()\n",
    "        organization_type = cells[4].text.strip()\n",
    "        method = cells[5].text.strip() if len(cells) > 5 else 'Unknown'\n",
    "        data_government.append([agency, records, year, organization_type, method])\n",
    "\n",
    "gov_data_breach = pd.DataFrame(data_government, columns=['organization', 'records lost', 'year', 'sector', 'method'])"
   ]
  },
  {
   "cell_type": "markdown",
   "metadata": {},
   "source": [
    "**Companies table**"
   ]
  },
  {
   "cell_type": "code",
   "execution_count": 4,
   "metadata": {},
   "outputs": [],
   "source": [
    "company_table = tables[1]\n",
    "data_company = []\n",
    "\n",
    "for row in company_table.find_all('tr')[1:]:\n",
    "    cells = row.find_all('td')\n",
    "    if len(cells) >= 5:\n",
    "        entity = cells[0].text.strip()\n",
    "        year = cells[1].text.strip()\n",
    "        records = cells[2].text.strip()\n",
    "        organization_type = cells[3].text.strip()\n",
    "        method = cells[4].text.strip() if len(cells) > 4 else 'Unknown'\n",
    "        data_company.append([entity, records, year, organization_type, method])\n",
    "\n",
    "company_data_breach = pd.DataFrame(data_company, columns=['organization', 'records lost', 'year', 'sector', 'method'])\n",
    "\n",
    "merged_data = pd.concat([gov_data_breach, company_data_breach], ignore_index=True)"
   ]
  },
  {
   "cell_type": "markdown",
   "metadata": {},
   "source": [
    "**Merge with Baloon_dataset**"
   ]
  },
  {
   "cell_type": "code",
   "execution_count": 5,
   "metadata": {},
   "outputs": [],
   "source": [
    "balloon_race_df = pd.read_csv('Balloon Race Data Breaches - LATEST - breaches.csv')\n",
    "\n",
    "balloon_race_df.columns = balloon_race_df.columns.str.strip()\n",
    "balloon_race_df_clean = balloon_race_df[['organisation', 'records lost', 'year', 'sector', 'method']].dropna()\n",
    "balloon_race_df_clean = balloon_race_df_clean.rename(columns={'organisation': 'organization'})\n",
    "\n",
    "final_merged_data = pd.concat([balloon_race_df_clean, merged_data], ignore_index=True)"
   ]
  },
  {
   "cell_type": "markdown",
   "metadata": {},
   "source": [
    "**First dataset cleaning**"
   ]
  },
  {
   "cell_type": "code",
   "execution_count": 6,
   "metadata": {},
   "outputs": [],
   "source": [
    "for col in final_merged_data.select_dtypes(include=['object']).columns:\n",
    "    final_merged_data[col] = final_merged_data[col].str.strip().str.lower()\n",
    "final_merged_dataset = final_merged_data.sort_values(by='organization', ignore_index=True)"
   ]
  },
  {
   "cell_type": "markdown",
   "metadata": {},
   "source": [
    "**Save dataset**"
   ]
  },
  {
   "cell_type": "code",
   "execution_count": 7,
   "metadata": {},
   "outputs": [],
   "source": [
    "final_merged_dataset.to_csv(\"final_merged_data_breaches.csv\", index=False)"
   ]
  }
 ],
 "metadata": {
  "kernelspec": {
   "display_name": "venv",
   "language": "python",
   "name": "python3"
  },
  "language_info": {
   "codemirror_mode": {
    "name": "ipython",
    "version": 3
   },
   "file_extension": ".py",
   "mimetype": "text/x-python",
   "name": "python",
   "nbconvert_exporter": "python",
   "pygments_lexer": "ipython3",
   "version": "3.10.15"
  }
 },
 "nbformat": 4,
 "nbformat_minor": 2
}
