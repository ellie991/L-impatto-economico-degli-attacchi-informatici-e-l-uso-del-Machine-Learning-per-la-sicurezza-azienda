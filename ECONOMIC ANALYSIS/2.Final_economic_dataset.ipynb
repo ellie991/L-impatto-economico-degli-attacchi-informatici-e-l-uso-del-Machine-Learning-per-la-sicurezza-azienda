{
 "cells": [
  {
   "cell_type": "markdown",
   "metadata": {},
   "source": [
    "**Import librariest**"
   ]
  },
  {
   "cell_type": "code",
   "execution_count": 1,
   "metadata": {},
   "outputs": [],
   "source": [
    "import pandas as pd\n",
    "import re"
   ]
  },
  {
   "cell_type": "markdown",
   "metadata": {},
   "source": [
    "**Import dataset**"
   ]
  },
  {
   "cell_type": "code",
   "execution_count": 2,
   "metadata": {},
   "outputs": [],
   "source": [
    "file_path = \"final_merged_data_breaches.csv\"\n",
    "final_merged_data = pd.read_csv(file_path)"
   ]
  },
  {
   "cell_type": "markdown",
   "metadata": {},
   "source": [
    "**Organization**"
   ]
  },
  {
   "cell_type": "code",
   "execution_count": 3,
   "metadata": {},
   "outputs": [],
   "source": [
    "final_merged_data['organization'] = final_merged_data['organization'].replace('?', 'unknown').replace('various', 'unknown')\n",
    "\n",
    "\n",
    "unification_dict = {\n",
    "    \"adobe\": [\"adobe inc.\", \"adobe systems incorporated\"], \"aerserv\": [\"aerserv (subsidiary of inmobi)\"], \"anthem\": [\"anthem inc.\"], \"apple\": [\"apple health medicaid\", \"apple, inc./bluetoad\", \"apple icloud\"],\n",
    "    \"ashley madison\": [\"ashleymadison.com\"], \"amazon\": [\"amazon japan g.k.\", \"amazon reviews\"], \"bell canada\": [\"bell\"], \"blue cross blue shield of tennessee\": [\"bluecross blueshield of tennessee\"],\n",
    "    \"cardsystems solutions inc.\": [\"cardsystems solutions inc.(mastercard, visa, discover financial services and american express)\"], \"carefirst\": [\"carefirst bluecross blue shield - maryland\"],\n",
    "    \"medicaid\": [\"centers for medicare & medicaid services\", \"medicare & medicaid\"], \"chinese gaming sites\": [\"chinese gaming websites (three: duowan, 7k7k, 178.com)\"], \"blizzard\":[\"blizzard entertainment\"],\n",
    "    \"colorado government\": [\"colorado department of health care policy & financing\"], \"desjardins\": [\"desjardins group\"], \"domino's pizza (france)\": [\"dominios pizzas (france)\"], \"gap inc\": [\"gap inc.\"],\n",
    "    \"educational credit management corp\": [\"educational credit management corporation\"], \"experian\": [\"experian - t-mobile us\", \"experian / t-mobile\", \"experian brazil\", \"experian sa\"], \"google plus\": [\"google+\"],\n",
    "    \"faceboook\": [\"faceboook marketplace\"], \"gawker\": [\"gawker.com\"], \"health net\": [\"health net - ibm\", \"health net — ibm\"], \"ticketfly\": [\"ticketfly (subsidiary of eventbrite)\"], \"health net\": [\"health net — ibm\"],\n",
    "    \"heartland\": [\"heartland payment systems\"], \"linkedin\": [\"linkedin, eharmony, last.fm\"], \"macrumors\": [\"macrumors.com\"], \"marriott\": [\"marriott hotels\", \"marriott international\"], \"microsoft\": [\"microsoft exchange servers\"],\n",
    "    \"myfitnesspal\": [\"myfitnesspal (under armour subsidiary)\"], \"nintendo\": [\"nintendo (club nintendo)\", \"nintendo (nintendo account)\"], \"red cross\": [\"red cross blood service\"], \"massachusetts government\": [\"massachusetts executive office of labor and workforce development\"],\n",
    "    \"saks\": [\"saks and lord & taylor\", \"saks fifth avenue / lord & taylor\"], \"shanghai\": [\"shanghai national police database\", \"shanghai police\"],\n",
    "    \"sony\": [\"sony online entertainment\", \"sony pictures\", \"sony playstation network\", \"sony psn\"], \"t-mobile\": [\"t-mobile, deutsche telecom\", \"t-mobile, deutsche telekom\"], \"target\": [\"target corporation\"], \"tianya\": [\"tianya club\"], \n",
    "    \"ucla\": [\"ucla health\", \"ucla medical center, santa monica\"], \"university of wisconsin\": [\"university of wisconsin - milwaukee\", \"university of wisconsin–milwaukee\"],\n",
    "    \"u.s census bureau\": [\"unknown agency(believed to be tied to united states census bureau)\"], \"us office of personnel management\": [\"us office of personnel management (2nd breach)\"],\n",
    "    \"law enforcement agencies\": [\"various law enforcement agencies (philippine national police, national bureau of investigation, bureau of internal revenue)\"],\n",
    "    \"verifications.io\": [\"verifications.io (first leak)\", \"verifications.io (total leaks)\"], \"volkswagen\": [\"vw\"], \"wawa\": [\"wawa (company)\"], \"yahoo\": [\"yahoo japan\", \"yahoo voices\", \"yahoo! voices\"]\n",
    "}\n",
    "\n",
    "inverse_dict = {name: key for key, names in unification_dict.items() for name in names}\n",
    "final_merged_data['organization'] = final_merged_data['organization'].replace(inverse_dict)\n",
    "\n",
    "final_merged_data['organization'] = final_merged_data['organization'].str.replace('\"', '', regex=False).str.strip().str.lower()"
   ]
  },
  {
   "cell_type": "markdown",
   "metadata": {},
   "source": [
    "**Records lost**"
   ]
  },
  {
   "cell_type": "code",
   "execution_count": 4,
   "metadata": {},
   "outputs": [],
   "source": [
    "def replace_textual_values(value):\n",
    "    if isinstance(value, str):\n",
    "        if re.search(r'\\b(?:tb|gb|terabytes?|gigabytes?|years?|leaders?)\\b', value, flags=re.IGNORECASE):\n",
    "            return 'unknown'\n",
    "        \n",
    "        value = re.sub(r'[^\\w\\s,.]', '', value)\n",
    "        \n",
    "        match = re.search(r'(\\d{1,3}(?:[,\\.]?\\d{3})*)', value)\n",
    "        \n",
    "        if match:\n",
    "            cleaned_number = re.sub(r'[,.]', '', match.group(1))\n",
    "            return cleaned_number\n",
    "        return 'unknown'\n",
    "    return 'unknown'\n",
    "\n",
    "final_merged_data['records lost'] = final_merged_data['records lost'].apply(replace_textual_values)\n",
    "\n",
    "# valore da rimuovere\n",
    "final_merged_data.loc[(final_merged_data['organization'].str.lower() == 'heathrow airport') & (final_merged_data['records lost'] == '2'), 'records lost'] = 'unknown'\n"
   ]
  },
  {
   "cell_type": "markdown",
   "metadata": {},
   "source": [
    "**Year**"
   ]
  },
  {
   "cell_type": "code",
   "execution_count": 5,
   "metadata": {},
   "outputs": [],
   "source": [
    "def is_numeric(value):\n",
    "    if isinstance(value, str):\n",
    "        return bool(re.match(r'^\\d+$', value))\n",
    "    return isinstance(value, int)\n",
    "\n",
    "cleaned_data = final_merged_data[final_merged_data['year'].apply(is_numeric) | final_merged_data['year'].apply(lambda x: isinstance(x, int))].copy()\n"
   ]
  },
  {
   "cell_type": "markdown",
   "metadata": {},
   "source": [
    "**Sector**"
   ]
  },
  {
   "cell_type": "code",
   "execution_count": 6,
   "metadata": {},
   "outputs": [],
   "source": [
    "def standardize_sector(sector):\n",
    "    if isinstance(sector, str):\n",
    "        sector = sector.lower().strip()\n",
    "        sector_categories = {\n",
    "            'technology and telecommunications': ['app', 'consumer genetics', 'background check', 'social network', 'genealogy', 'security', 'consumer goods', 'dating', 'educational services' 'electronics', 'hosting provider', 'information security', \n",
    "            'information technology', 'local search', 'malware tools', 'network monitoring', 'online marketing', 'software', 'tech', 'tech, cloud storage', 'tech, data storage', 'tech, health', 'tech, retail', 'tech, web', 'telecom', 'telecommunications', 'telecoms', \n",
    "            'telephone directory', 'misc, health', 'web', 'web services', 'web, gaming', 'web, military', 'web, tech'],\n",
    "            'finance and insurance': ['broker/dealer', 'bureau', 'data broker', 'finance', 'financial', 'financial, credit bureau', 'financial, credit reporting', 'nonprofit, financial'],\n",
    "            'retail and e-commerce': ['tech, app', 'online', 'market analysis', 'e-commerce', 'food', 'phone accessories', 'mobile carrier', 'hotel/casino', 'logistics', 'qr code payment', 'restaurant', 'automotives', 'retail', 'shopping', 'ticket distribution'],\n",
    "            'healthcare': ['clinical laboratory', 'data aggregator', 'health', 'healthcare', 'healthcare, pharmacy', 'healthcare, retail', 'military, health', 'military, healthcare', 'government, health', 'government, healthcare', 'pharmacy'],\n",
    "            'government and military': ['aerospace', 'government', 'personal and demographic data about residents and their properties of us', 'government, military', 'law enforcement', 'military', 'military, health', 'military, healthcare', 'political', 'politics', 'special public corporation'],\n",
    "            'media and entertainment': ['advertising', 'arts group', 'entertainment', 'gambling', 'gaming', 'media', 'public broadcasting', 'publisher (magazine)', 'sports', 'web, gaming'],\n",
    "            'academic institutions': ['academic'],\n",
    "            'consumer and utility services': ['logistics', 'energy', 'local transport authority', 'printing', 'legal', 'transport', 'consulting, accounting'],\n",
    "            'charity and non-profit': ['charity', 'ngo', 'humanitarian', 'computer services for charities'],\n",
    "            'unknown': ['misc', 'international', 'various']\n",
    "        }\n",
    "\n",
    "        for category, terms in sector_categories.items():\n",
    "            if any(term in sector for term in terms):\n",
    "                return category\n",
    "    return 'unknown'\n",
    "\n",
    "cleaned_data['sector'] = cleaned_data['sector'].apply(standardize_sector)\n",
    "\n",
    "def rename_unknown_sectors(data): #sostituisco gli unknown rimasti mettendoli nella giusta categoria\n",
    "    replacements = {\n",
    "        'cgi group': 'technology and telecommunications', 'ernst & young': 'consumer and utility services', 'collection no. 1': 'technology and telecommunications', '50 companies and government institutions': 'government and military', \n",
    "        'central hudson gas & electric': 'consumer and utility services', 'chtrbox': 'technology and telecommunications', 'gs caltex': 'consumer and utility services', 'mossack fonseca': 'finance and insurance', 'new york state electric & gas': 'consumer and utility services',\n",
    "        'sony': 'technology and telecommunications', 'travelio': 'consumer and utility services', 'washington post': 'media and entertainment', 'world check': 'government and military', 'zhenhua': 'consumer and utility services',\n",
    "        'quora': 'technology and telecommunications', 'australian red cross blood service': 'charity and non-profit', 'dell': 'technology and telecommunications', 'duolingo': 'technology and telecommunications', 'accenture': 'consumer and utility services', 'deloitte': 'consumer and utility services',\n",
    "        'commission on elections': 'government and military', 'dai nippon printing': 'consumer and utility services', 'uber': 'technology and telecommunications', 'cathay pacific airways': 'consumer and utility services', 'japan airlines': 'consumer and utility services', 'new york taxis': 'consumer and utility services',\n",
    "        'air canada': 'consumer and utility services', 'air india': 'consumer and utility services', 'british airways': 'consumer and utility services', 'easyjet': 'consumer and utility services', 'heathrow airport': 'consumer and utility services',\n",
    "        'buchbinder car rentals': 'consumer and utility services', 'tesla': 'retail and e-commerce', 'toyota': 'retail and e-commerce', 'transport for london': 'consumer and utility services', 'paradise papers': 'government and military',\n",
    "        'avvo': 'consumer and utility services','benesse': 'media and entertainment','boeing': 'consumer and utility services', 'doordash': 'retail and e-commerce', 'iberdrola': 'consumer and utility services', 'ixigo': 'consumer and utility services', 'nmbs': 'consumer and utility services', 'pandora papers': 'finance and insurance',\n",
    "        'park mobile': 'technology and telecommunications', 'royal enfield': 'retail and e-commerce', 'star alliance': 'consumer and utility services', 'u-haul': 'consumer and utility services','viewfines': 'technology and telecommunications', 'volkswagen': 'retail and e-commerce',  \n",
    "    }\n",
    "    \n",
    "    for org, sector in replacements.items():\n",
    "        data.loc[(data['organization'].str.contains(org, case=False, na=False)) & (data['sector'] == 'unknown'), 'sector'] = sector\n",
    "    return data\n",
    "\n",
    "cleaned_data['sector'] = cleaned_data['sector'].apply(standardize_sector)\n",
    "cleaned_data = rename_unknown_sectors(cleaned_data)\n",
    "\n",
    "#elimino gli unknown senza nome organization e senza settore, non sono utili per l'analisi\n",
    "cleaned_data = cleaned_data[~((cleaned_data['organization'] == 'unknown') & (cleaned_data['sector'] == 'unknown'))]\n"
   ]
  },
  {
   "cell_type": "markdown",
   "metadata": {},
   "source": [
    "**Methods**"
   ]
  },
  {
   "cell_type": "code",
   "execution_count": 7,
   "metadata": {},
   "outputs": [],
   "source": [
    "def standardize_method(method):\n",
    "    if isinstance(method, str):\n",
    "        method = method.lower()\n",
    "        method_categories = {\n",
    "            'accidental exposure': ['accidentally exposed', 'accidentally published', 'accidently published', 'accidentally uploaded', 'discs found in trash'],\n",
    "            'compromised credentials': ['compromised administrative account', 'compromised credentials', 'credential stuffing', 'credential stuffing attack', 'stolen credentials'],\n",
    "            'cyber attacks including phs&rw': ['brute force attack', 'cyber attack', 'phishing attack', 'ransomware', 'ransomware attack', 'ransomware hacking', 'ransomware/hacked', 'zero-day vulnerabilities'],\n",
    "            'data misconfiguration': ['data exposed by misconfiguration', 'misconfiguration/poor security', 'misconfigured api', 'misconfigured server', 'misconfigured web server', 'misconfigured website', 'publicly accessible amazon web services (aws) server', 'unprotected api', 'unsecured database', 'unsecured s3 bucket'],\n",
    "            'data leakage and misuse': ['data leak due to security vulnerabilities', 'data misuse', 'leaked and published', 'compilation of multiple data breaches'],\n",
    "            'hacking and unauthorized access': ['hacked', 'hacked / poor security', 'hacked and published', 'hacked by alphv', 'hacked by latvian hackers', 'hacked by lulzsec', 'hacked by pwn0001', 'hacked by rhysida', 'hacked by russian hackers', 'hacked by v0g3lsec', 'hacked third party service', 'hacked with a trojan', 'hacked/misconfiguration', 'improper setting, hacked', 'maliciously injected javascript', 'maliciously modified javascript', 'web scraping'],\n",
    "            'insider threats': ['inside job', 'insider', 'insider theft', 'internal job', 'rogue contractor'],\n",
    "            'physical theft or loss': ['intentionally lost', 'lost / stolen computer', 'lost / stolen media', 'lost box of data tapes', 'lost device', 'lost/stolen device', 'magnetic tape missing from an iron mountain incorporated storage facility', 'stolen laptop'],\n",
    "            'security weaknesses': ['poor security', 'poor security / hacked', 'poor security / misconfigured server', 'poor security/account recovery', 'poor security/hacked', 'poor security/inside job', 'vulnerabilities in plugins', 'vulnerability']\n",
    "        }\n",
    "        for category, terms in method_categories.items():\n",
    "            if any(term in method for term in terms):\n",
    "                return category\n",
    "    return 'unknown'\n",
    "\n",
    "cleaned_data['method'] = cleaned_data['method'].apply(standardize_method)"
   ]
  },
  {
   "cell_type": "markdown",
   "metadata": {},
   "source": [
    "**Duplicates**"
   ]
  },
  {
   "cell_type": "code",
   "execution_count": null,
   "metadata": {},
   "outputs": [],
   "source": [
    "def is_numeric_value(value):\n",
    "    if isinstance(value, str) and value.isdigit():\n",
    "        return True\n",
    "    return False\n",
    "\n",
    "cleaned_data['numeric_records_lost'] = cleaned_data['records lost'].apply(is_numeric_value)\n",
    "cleaned_data = cleaned_data.sort_values(by=['organization', 'records lost', 'year', 'numeric_records_lost'], \n",
    "                                        ascending=[True, True, True, False])\n",
    "\n",
    "cleaned_data = cleaned_data.drop_duplicates(subset=['organization', 'records lost'], keep='first')\n",
    "cleaned_data = cleaned_data.drop(columns=['numeric_records_lost'])"
   ]
  },
  {
   "cell_type": "markdown",
   "metadata": {},
   "source": [
    "**Sorted and save new cleaned dataset**"
   ]
  },
  {
   "cell_type": "code",
   "execution_count": 9,
   "metadata": {},
   "outputs": [],
   "source": [
    "final_filtered_data_sorted = cleaned_data.sort_values(by='organization', ignore_index=True)\n",
    "final_filtered_data_sorted.to_csv(\"final_data_breaches.csv\", index=False)"
   ]
  }
 ],
 "metadata": {
  "kernelspec": {
   "display_name": "venv",
   "language": "python",
   "name": "python3"
  },
  "language_info": {
   "codemirror_mode": {
    "name": "ipython",
    "version": 3
   },
   "file_extension": ".py",
   "mimetype": "text/x-python",
   "name": "python",
   "nbconvert_exporter": "python",
   "pygments_lexer": "ipython3",
   "version": "3.10.15"
  }
 },
 "nbformat": 4,
 "nbformat_minor": 2
}
